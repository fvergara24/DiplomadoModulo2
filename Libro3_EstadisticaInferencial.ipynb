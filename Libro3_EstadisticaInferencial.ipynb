{
  "cells": [
    {
      "cell_type": "markdown",
      "metadata": {
        "id": "view-in-github",
        "colab_type": "text"
      },
      "source": [
        "<a href=\"https://colab.research.google.com/github/fvergara24/DiplomadoModulo2/blob/main/Libro3_Estadistica.ipynb\" target=\"_parent\"><img src=\"https://colab.research.google.com/assets/colab-badge.svg\" alt=\"Open In Colab\"/></a>"
      ]
    },
    {
      "cell_type": "markdown",
      "id": "19cb5130-dc6d-41ba-b352-adfa5bb449ce",
      "metadata": {
        "id": "19cb5130-dc6d-41ba-b352-adfa5bb449ce"
      },
      "source": [
        "## Estimador Máximo Verosímil"
      ]
    },
    {
      "cell_type": "markdown",
      "id": "2dc434cf-3a3d-466e-8e6c-3d31d7658f26",
      "metadata": {
        "id": "2dc434cf-3a3d-466e-8e6c-3d31d7658f26"
      },
      "source": [
        "Existen distintos métodos para estimar parámetros desconocidos a partir de un conjunto de datos. El Estimador Máximo Verosímil (MLE) responde a la siguiente pregunta:\n",
        "\n",
        "¿Para qué valor del parámetro, los datos observados tienen la probabilidad más alta?\n",
        "\n",
        "**Ejemplo 1** Una moneda se lanza 100 veces. Dado que se obtienen 55 soles, econtrar el MLE para la probabilidad $p$ de obtener sol en un sólo lanzamiento,\n",
        "\n",
        "Podemos pensar en contar el número de soles en los 100 lanzamientos, entonces la probabilidad de obtener 55 soles en este experimento, es la siguiente:\n",
        "\n",
        "Si $X:$ el numero de soles que se obtienen al lanzar una moneda, se tiene que $X\\sim Bin(100,p)$, es decir,\n",
        "\n",
        "$$ P(55 soles; p) = \\binom{100}{55}p^{55}(1-p)^{100-55} $$\n"
      ]
    },
    {
      "cell_type": "markdown",
      "id": "8664de36-8352-4ee0-a37f-1b7e20e89c76",
      "metadata": {
        "id": "8664de36-8352-4ee0-a37f-1b7e20e89c76"
      },
      "source": [
        "**Función de verosímilitud.** Sea $X_1,X_2,\\dots,X_n$ una muestra aleatoria con $f(x;\\theta)$. La función de verosimilitud (likelihood) es:\n",
        "$$ f(x_1,\\dots,x_n;\\theta) = f(x_1;\\theta)\\cdots f(x_n;\\theta) $$\n",
        "Entpnces,\n",
        "$$ L(x_1,\\dots,x_n;\\theta) = \\prod_{i=1}^n f(x_i,\\theta) $$\n",
        "\n",
        "Ejemplo. Si $X_1,\\dots,X_n$ es una m.a. Poisson($\\lambda$), entonces\n",
        "$$ L(x_1,\\dots,x_n;\\lambda) = \\frac{e^{-n\\lambda} \\lambda^{\\sum x_i }}{\\prod x_i !}$$"
      ]
    },
    {
      "cell_type": "code",
      "execution_count": null,
      "id": "ca7ee6f0-0f59-4d1b-895f-b0756f86cd7f",
      "metadata": {
        "id": "ca7ee6f0-0f59-4d1b-895f-b0756f86cd7f"
      },
      "outputs": [],
      "source": []
    },
    {
      "cell_type": "markdown",
      "id": "c34f54d4-dffb-4601-b864-c287c874783e",
      "metadata": {
        "id": "c34f54d4-dffb-4601-b864-c287c874783e"
      },
      "source": [
        "**Estimador Máximo Verosímil** es el valor de $\\theta$, donde $L(x_1,\\dots,x_n;\\theta)$ alcanza el máximo.\n",
        "\n",
        "Pasos:\n",
        "\n",
        "- $$ L(x_1,\\dots,x_n;\\theta) = \\prod_{i=1}^n f(x_i,\\theta) $$\n",
        "- $$\\ln L(x_1,\\dots,x_n;\\theta) $$\n",
        "- $$ \\frac{d\\ln L(x_1,\\dots,x_n;\\theta)}{d\\theta} $$\n",
        "- $$ \\frac{d\\ln L(x_1,\\dots,x_n;\\theta)}{d\\theta} = 0 $$\n",
        "  y despejar $\\theta$ para encontrar el máximo."
      ]
    },
    {
      "cell_type": "markdown",
      "id": "01bac067-f664-40b2-8203-1c7aec67e672",
      "metadata": {
        "id": "01bac067-f664-40b2-8203-1c7aec67e672"
      },
      "source": [
        "Para nuestro caso, tenemos\n",
        "$$ \\frac{P(55 soles ;p)}{dp}=\\binom{100}{55}p^{55}(1-p)^{45} - 45p^{55}(1-p)^44=0$$\n",
        "entonces, resolviendo para $p$, se tiene\n",
        "$$ \\binom{100}{55}p^{55}(1-p)^{45}=45^{55}(1-p)^44 $$\n",
        "entonces,\n",
        "$$ 55(1-p) = 45p $$\n",
        "entonces,\n",
        "$$p = \\frac{55}{100}$$\n",
        "\n",
        "Por lo tanto, el MLE para $p$, es $\\hat{p}=0.55$"
      ]
    },
    {
      "cell_type": "code",
      "execution_count": null,
      "id": "aed685e0-520d-4036-9ef7-062b983269e7",
      "metadata": {
        "id": "aed685e0-520d-4036-9ef7-062b983269e7",
        "outputId": "f9800488-015e-4cbc-cc1b-9adbcf1c5895"
      },
      "outputs": [
        {
          "name": "stdout",
          "output_type": "stream",
          "text": [
            "Es estimador de máxima verosimilitud es 11/20\n"
          ]
        }
      ],
      "source": [
        "from scipy.stats import bernoulli, binom\n",
        "import numpy as np\n",
        "import sympy # para calculo simbolico y algebraico -> encontra el estimador de maneta analítica\n",
        "from sympy.abc import x\n",
        "\n",
        "# Definir a p como una variable simbolica positiva\n",
        "\n",
        "p = sympy.symbols('p', positive = True )\n",
        "f = p**55 * (1-p)**(100-55)\n",
        "phat = sympy.solve(sympy.diff(f,p),p)[0]\n",
        "\n",
        "print(\"Es estimador de máxima verosimilitud es\", phat)"
      ]
    },
    {
      "cell_type": "markdown",
      "id": "cb70c305-3e2d-49e8-8e1e-3127a5264a68",
      "metadata": {
        "id": "cb70c305-3e2d-49e8-8e1e-3127a5264a68"
      },
      "source": [
        "Veamos otro ejemplo:"
      ]
    },
    {
      "cell_type": "code",
      "execution_count": null,
      "id": "c986bdbb-177a-466c-a805-9dd7acc28ca3",
      "metadata": {
        "id": "c986bdbb-177a-466c-a805-9dd7acc28ca3",
        "outputId": "3d4b16e9-9711-4ed2-ac41-d7e36c5742bd"
      },
      "outputs": [
        {
          "data": {
            "text/plain": [
              "array([1, 0, 1, 1, 1, 0, 1, 1, 0, 0, 1, 0, 0, 0, 1, 1, 1, 0, 1, 1, 0, 1,\n",
              "       1, 1, 1, 0, 1, 1, 1, 0, 1, 0, 1, 1, 1, 0, 0, 1, 0, 1, 1, 1, 1, 1,\n",
              "       1, 0, 1, 1, 1, 1, 1, 1, 1, 1, 0, 1, 1, 0, 1, 0, 1, 1, 1, 1, 0, 1,\n",
              "       1, 1, 1, 0, 1, 0, 1, 1, 1, 0, 0, 0, 1, 1, 1, 1, 1, 1, 1, 1, 1, 1,\n",
              "       1, 1, 0, 1, 0, 0, 1, 1, 1, 1, 1, 0], dtype=int64)"
            ]
          },
          "execution_count": 72,
          "metadata": {},
          "output_type": "execute_result"
        }
      ],
      "source": [
        "r = binom.rvs(1,0.7, size=100)\n",
        "r"
      ]
    },
    {
      "cell_type": "code",
      "execution_count": null,
      "id": "34f99224-25d8-47e4-955a-1b7107c7a8d1",
      "metadata": {
        "id": "34f99224-25d8-47e4-955a-1b7107c7a8d1",
        "outputId": "d0af55f9-166e-4dae-c29a-c963b85db9d0"
      },
      "outputs": [
        {
          "name": "stdout",
          "output_type": "stream",
          "text": [
            "Es estimador de máxima verosimilitud es 63/100\n"
          ]
        }
      ],
      "source": [
        "f = p**x*(1-p)**(1-x)\n",
        "J = np.prod([f.subs(x,i) for i in r])\n",
        "logJ = sympy.expand_log(sympy.log(J)) #logaritmo\n",
        "phat = sympy.solve(sympy.diff(logJ,p),p)[0]\n",
        "print(\"Es estimador de máxima verosimilitud es\", phat)"
      ]
    },
    {
      "cell_type": "markdown",
      "id": "f63cfc07-4ec9-40d4-91b6-1f93b42fb7d7",
      "metadata": {
        "id": "f63cfc07-4ec9-40d4-91b6-1f93b42fb7d7"
      },
      "source": [
        "Ejercicio: El tiempo de retardo para pacientes con enfermedad coronaria potencial se define como la duración entre el comienzo de un síntoma agudo cardiovascular y la llegada a la unidad de emergencia.\n",
        "\n",
        "Se supone que el tiempo de retardo sigue una distribución exponencial con parámetro $\\theta $.\n",
        "\n",
        "Se registraron los tiempos de retardo (en minutos) en la clínica para los primeros 20 pacientes:\n",
        "\n",
        "$$ 525, \\ 719, \\ 2880, \\ 150, \\ 30, \\ 251, \\ 45, \\ 858, \\ 15, \\ 47, \\ 90, \\ 56, \\ 68, \\ 6, \\ 189, \\ 180, \\ 60, \\ 60, \\ 294, \\ 747 $$\n",
        "\n",
        "- Encuentra un estimador por el método de momentos para la media de la distribución.\n",
        "- Encuentra el valor del estimador con los datos dados."
      ]
    },
    {
      "cell_type": "markdown",
      "id": "2afc8f0d-2d41-4b1b-8d6b-31c67ba1a68b",
      "metadata": {
        "id": "2afc8f0d-2d41-4b1b-8d6b-31c67ba1a68b"
      },
      "source": [
        "Solución\n",
        "\n",
        "- Encuentra un estimador por el método de momentos para la media de la distribución.\n",
        "  \n",
        " Si $X\\sim Exp(\\theta)$, sabemos que $E[x]=\\theta$ entonces igualando $E[x]=\\frac{1}{n}\\sum x_i$\n",
        "\n",
        " Igualamos $\\theta=\\frac{1}{n}\\sum x_i$\n",
        "\n",
        " $\\theta=\\bar{x}$, entonces: $ \\hat{\\theta}=\\bar{x}$\n",
        "\n",
        "- Encuentra el valor del estimador con los datos dados.\n",
        "  \n",
        "$ \\hat{\\theta}=\\bar{x}=\\frac{7210}{20}$\n"
      ]
    },
    {
      "cell_type": "code",
      "execution_count": null,
      "id": "fb47ae90-7c55-4ab9-a44c-b517f0309ed4",
      "metadata": {
        "id": "fb47ae90-7c55-4ab9-a44c-b517f0309ed4"
      },
      "outputs": [],
      "source": []
    },
    {
      "cell_type": "markdown",
      "id": "81b2cc33-73c5-4e8d-b100-76bd737196f2",
      "metadata": {
        "id": "81b2cc33-73c5-4e8d-b100-76bd737196f2"
      },
      "source": [
        "Ejercicio. Sea una muestra aleatoria $X_1, \\ldots, X_n \\overset{iid}{\\sim} \\mathcal{N}(\\mu, \\sigma^2) $.\n",
        "Queremos encontrar el estimador de máxima verosimilitud para $\\mu$ y $\\sigma^2$.\n",
        "\n",
        "La función de densidad es:\n",
        "$$ f(x; \\mu, \\sigma^2) = \\frac{1}{\\sqrt{2\\pi \\sigma^2}} \\exp\\left(-\\frac{(x - \\mu)^2}{2\\sigma^2}\\right) \\cdot \\mathbf{1}_{(-\\infty, \\infty)}(x)$$"
      ]
    },
    {
      "cell_type": "markdown",
      "id": "205a680b-3f2e-4c51-b248-703c61a70819",
      "metadata": {
        "id": "205a680b-3f2e-4c51-b248-703c61a70819"
      },
      "source": [
        "- Solución\n",
        "  \n",
        "Dado un conjunto de datos $X = \\{x_1, x_2, \\dots, x_n\\}$ que siguen una distribución normal $N(\\mu, \\sigma^2)$, la función de verosimilitud es el producto de las densidades individuales:\n",
        "\n",
        "$\n",
        "L(\\mu, \\sigma^2) = \\prod_{i=1}^{n} \\frac{1}{\\sqrt{2\\pi\\sigma^2}} \\exp\\left(-\\frac{(x_i - \\mu)^2}{2\\sigma^2}\\right).$\n",
        "\n",
        "Tomamos el logaritmo de la verosimilitud:\n",
        "\n",
        "$\n",
        "\\ln L(\\mu, \\sigma^2) = \\sum_{i=1}^{n} \\left[ -\\frac{1}{2} \\ln(2\\pi\\sigma^2) - \\frac{(x_i - \\mu)^2}{2\\sigma^2} \\right].$\n",
        "\n",
        "$\n",
        "\\ln L(\\mu, \\sigma^2) = -\\frac{n}{2} \\ln(2\\pi\\sigma^2) - \\frac{1}{2\\sigma^2} \\sum_{i=1}^{n} (x_i - \\mu)^2.$\n",
        "\n",
        "Estimador de $\\mu$\n",
        "Derivamos respecto a $\\mu$:\n",
        "$\n",
        "\\frac{\\partial \\ln L}{\\partial \\mu} = -\\frac{1}{\\sigma^2} \\sum_{i=1}^{n} (x_i - \\mu).$\n",
        "\n",
        "Igualamos a cero:\n",
        "$\\sum_{i=1}^{n} (x_i - \\mu) = 0$\n",
        "\n",
        "$\\mu = \\frac{1}{n} \\sum_{i=1}^{n} x_i.$\n",
        "\n",
        "Por lo tanto, el estimador de máxima verosimilitud de $\\mu$ es la media muestral:\n",
        "$\\hat{\\mu} = \\bar{x} = \\frac{1}{n} \\sum_{i=1}^{n} x_i.$\n",
        "Estimador de $\\sigma^2$\n",
        "Derivamos respecto a $\\sigma^2$:\n",
        "$\\frac{\\partial \\ln L}{\\partial \\sigma^2} = -\\frac{n}{2\\sigma^2} + \\frac{1}{2\\sigma^4} \\sum_{i=1}^{n} (x_i - \\mu)^2$\n",
        "\n",
        "Igualamos a cero:\n",
        "$-\\frac{n}{2\\sigma^2} + \\frac{1}{2\\sigma^4} \\sum_{i=1}^{n} (x_i - \\mu)^2 = 0$\n",
        "\n",
        "Multiplicamos por $2\\sigma^4$:\n",
        "$-n\\sigma^2 + \\sum_{i=1}^{n} (x_i - \\mu)^2 = 0$\n",
        "$\n",
        "\\sigma^2 = \\frac{1}{n} \\sum_{i=1}^{n} (x_i - \\mu)^2$\n",
        "\n",
        "Por lo tanto, el estimador de máxima verosimilitud de $\\sigma^2$ es:\n",
        "$\\hat{\\sigma}^2 = \\frac{1}{n} \\sum_{i=1}^{n} (x_i - \\bar{x})^2$\n",
        "\n",
        "Los estimadores de máxima verosimilitud para la distribución normal son:\n",
        "\n",
        "  $\\hat{\\mu} = \\bar{x},  \\space   $       $  \\space  \\space   \\hat{\\sigma}^2 = \\frac{1}{n} \\sum_{i=1}^{n} (x_i - \\bar{x})^2$\n"
      ]
    },
    {
      "cell_type": "markdown",
      "id": "0a99fcb3-17fa-4306-9d33-92b9d3087347",
      "metadata": {
        "id": "0a99fcb3-17fa-4306-9d33-92b9d3087347"
      },
      "source": [
        "Ejercicio (Pyton). Suponga que la vida util de los focos de cierta marca, se modela mediante una distribución expoencial de parametro $\\theta$ (desconocido). Probamos 5 focos y encontramos que tienen una vida útil de $2,3,1,3$ y $5$ años, respectivamente. ¿Cuál es el MLE para $\\theta$?"
      ]
    },
    {
      "cell_type": "code",
      "execution_count": null,
      "id": "a4e66078-2eb0-4369-982b-74f89ecbd4d0",
      "metadata": {
        "id": "a4e66078-2eb0-4369-982b-74f89ecbd4d0",
        "outputId": "7ecbbc54-d748-442c-9354-92bd1465c81c"
      },
      "outputs": [
        {
          "name": "stdout",
          "output_type": "stream",
          "text": [
            "El estimador de máxima verosimilitud para theta es: 14/5\n"
          ]
        }
      ],
      "source": [
        "import sympy\n",
        "import numpy as np\n",
        "\n",
        "# Datos de la muestra\n",
        "datos = [2, 3, 1, 3, 5]\n",
        "\n",
        "# Definir el parámetro theta como variable simbólica\n",
        "theta = sympy.symbols('theta')\n",
        "\n",
        "# Función de verosimilitud para la distribución exponencial\n",
        "# L(theta) = (1/theta)^n * exp(-1/theta * sum(x_i))\n",
        "n = len(datos)\n",
        "suma_datos = sum(datos)\n",
        "\n",
        "# Logaritmo de la función de verosimilitud\n",
        "logL = n * sympy.log(theta) + (1/theta) * suma_datos\n",
        "\n",
        "# Derivada de la log-verosimilitud con respecto a theta\n",
        "derivada_logL = sympy.diff(logL, theta)\n",
        "\n",
        "# Resolver para theta al igualar la derivada a cero\n",
        "theta_mle = sympy.solve(derivada_logL, theta)[0]\n",
        "\n",
        "# Mostrar el estimador MLE\n",
        "print(f\"El estimador de máxima verosimilitud para theta es: {theta_mle}\")\n"
      ]
    },
    {
      "cell_type": "markdown",
      "id": "6f7c20e6-e18d-4c18-8b70-146636de6007",
      "metadata": {
        "id": "6f7c20e6-e18d-4c18-8b70-146636de6007"
      },
      "source": [
        "Solución\n",
        "\n",
        "Sabemos que, $f(x) = \\theta (1 + x)^{-(1 + \\theta)}, \\quad x \\geq 0, \\, \\theta > 1$"
      ]
    },
    {
      "cell_type": "markdown",
      "id": "256587e3-9d75-4552-b1cd-04062f753b28",
      "metadata": {
        "id": "256587e3-9d75-4552-b1cd-04062f753b28"
      },
      "source": [
        "$ E[X]$ se calcula como:\n",
        "\n",
        "$\n",
        "E[X] = \\int_0^\\infty x \\cdot f(x) \\, dx$\n",
        "\n",
        "Sustituyendo la función de densidad $ f(x) $:\n",
        "\n",
        "$\n",
        "E[X] = \\int_0^\\infty x \\cdot \\theta (1 + x)^{-(1 + \\theta)} \\, dx$\n",
        "\n",
        "Hacemos el cambio de variable $ u = 1 + x $, de modo que $ du = dx $ y $x = u - 1 $. La integral se convierte en:\n",
        "\n",
        "$E[X] = \\int_1^\\infty (u - 1) \\cdot \\theta u^{-(1 + \\theta)} \\, du$\n",
        "\n",
        "Distribuimos:\n",
        "\n",
        "$E[X] = \\theta \\left( \\int_1^\\infty u^{-(\\theta)} \\, du - \\int_1^\\infty u^{-(1 + \\theta)} \\, du \\right)$\n",
        "\n",
        "Las integrales conocidas son:\n",
        "\n",
        "$\n",
        "\\int_1^\\infty u^{-\\theta} \\, du = \\frac{1}{\\theta}, \\quad \\int_1^\\infty u^{-(1 + \\theta)} \\, du = \\frac{1}{\\theta + 1}$\n",
        "\n",
        "Por lo tanto, el valor esperado es:\n",
        "\n",
        "$\n",
        "E[X] = \\theta \\left( \\frac{1}{\\theta} - \\frac{1}{\\theta + 1} \\right)\n",
        "$\n",
        "\n",
        "Simplificando:\n",
        "\n",
        "$\n",
        "E[X] = 1 - \\frac{\\theta}{\\theta + 1}$\n",
        "\n",
        "$\n",
        "E[X] = \\frac{1}{\\theta - 1}\n",
        "$\n"
      ]
    },
    {
      "cell_type": "markdown",
      "id": "0f6ba106-f258-4252-9505-fe2b437d821f",
      "metadata": {
        "id": "0f6ba106-f258-4252-9505-fe2b437d821f"
      },
      "source": [
        "Si $E[x]=\\frac{1}{n}\\sum x_i$"
      ]
    },
    {
      "cell_type": "markdown",
      "id": "388a0e83-2986-4c8a-8550-ae9fed0198ff",
      "metadata": {
        "id": "388a0e83-2986-4c8a-8550-ae9fed0198ff"
      },
      "source": [
        "Igualamos $\\frac{1}{n}\\sum x_i =\\frac{1}{\\theta -1}$"
      ]
    },
    {
      "cell_type": "markdown",
      "id": "bedb8cca-6777-4bde-9753-502ff5b83df3",
      "metadata": {
        "id": "bedb8cca-6777-4bde-9753-502ff5b83df3"
      },
      "source": [
        "$\\bar{x} =\\frac{1}{\\theta - 1}$"
      ]
    },
    {
      "cell_type": "markdown",
      "id": "9c1d04c7-f01b-4a34-a38f-37ebceffa266",
      "metadata": {
        "id": "9c1d04c7-f01b-4a34-a38f-37ebceffa266"
      },
      "source": [
        "$\\hat{\\theta}=\\frac{1}{\\bar{x}}+1$"
      ]
    }
  ],
  "metadata": {
    "kernelspec": {
      "display_name": "Python [conda env:base] *",
      "language": "python",
      "name": "conda-base-py"
    },
    "language_info": {
      "codemirror_mode": {
        "name": "ipython",
        "version": 3
      },
      "file_extension": ".py",
      "mimetype": "text/x-python",
      "name": "python",
      "nbconvert_exporter": "python",
      "pygments_lexer": "ipython3",
      "version": "3.12.7"
    },
    "colab": {
      "provenance": [],
      "include_colab_link": true
    }
  },
  "nbformat": 4,
  "nbformat_minor": 5
}
