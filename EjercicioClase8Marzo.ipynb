{
  "nbformat": 4,
  "nbformat_minor": 0,
  "metadata": {
    "colab": {
      "provenance": []
    },
    "kernelspec": {
      "name": "python3",
      "display_name": "Python 3"
    },
    "language_info": {
      "name": "python"
    }
  },
  "cells": [
    {
      "cell_type": "markdown",
      "source": [
        "## Github"
      ],
      "metadata": {
        "id": "SEk78EwYx1Lg"
      }
    },
    {
      "cell_type": "code",
      "source": [],
      "metadata": {
        "id": "tNasCI8Vx-Jw"
      },
      "execution_count": null,
      "outputs": []
    },
    {
      "cell_type": "markdown",
      "source": [
        "# Teoría"
      ],
      "metadata": {
        "id": "UqlX2Phsx3WP"
      }
    },
    {
      "cell_type": "markdown",
      "source": [
        "Sea $x \\in \\mathbb{R}$, la función piso, se define como sigue:\n",
        "$$ \\lfloor x \\rfloor = \\max { \\min m\\in\\mathbb{Z} \\mid m \\leq x \\ }| $$"
      ],
      "metadata": {
        "id": "45mrB5kdLBCw"
      }
    },
    {
      "cell_type": "markdown",
      "source": [
        "También podemos hacer la operación modular: Sean $a,b \\in \\mathbb{R} $ El residuo de dividir $a$ entre $b$ se llama operación modular, en Python se escribe como:\n",
        "'a%b'"
      ],
      "metadata": {
        "id": "71-XwocwMKHz"
      }
    },
    {
      "cell_type": "markdown",
      "source": [
        "Los objetos tienen atributos (miembros):\n",
        "* Datos: Información útil para el objeto\n",
        "* Métodos (funciones): Son operaciones sobre el propio objeto\n",
        "Los atributos son accesibles con la siguiente notación:\n",
        "objeto.atributo\n",
        "\n",
        "Existen dos modos en que un objeto es usado en una función:"
      ],
      "metadata": {
        "id": "bTMN_apaMyca"
      }
    },
    {
      "cell_type": "code",
      "source": [
        "# Pensándolo como un argumento explícito\n",
        "a=-3\n",
        "abs(a)"
      ],
      "metadata": {
        "colab": {
          "base_uri": "https://localhost:8080/"
        },
        "id": "pUQmvy9oLV_4",
        "outputId": "217ef08c-2499-40a8-d1ff-5e4a52ae8747"
      },
      "execution_count": 4,
      "outputs": [
        {
          "output_type": "execute_result",
          "data": {
            "text/plain": [
              "3"
            ]
          },
          "metadata": {},
          "execution_count": 4
        }
      ]
    },
    {
      "cell_type": "code",
      "source": [
        "# Llamandolo a uno de sus métodos:\n",
        "a=\"hola\"\n",
        "a.upper() #atributo método"
      ],
      "metadata": {
        "colab": {
          "base_uri": "https://localhost:8080/",
          "height": 35
        },
        "id": "JgFs4HnLN0hz",
        "outputId": "a61cd373-1c35-4c6a-c14d-1749cf10c86c"
      },
      "execution_count": 5,
      "outputs": [
        {
          "output_type": "execute_result",
          "data": {
            "text/plain": [
              "'HOLA'"
            ],
            "application/vnd.google.colaboratory.intrinsic+json": {
              "type": "string"
            }
          },
          "metadata": {},
          "execution_count": 5
        }
      ]
    },
    {
      "cell_type": "markdown",
      "source": [
        "## Probabilidad Laplaciana (clásica)\n",
        "Para un experimento aleatorio, se tiene que $\\Omega$ es el espacio muestral\n",
        "\n",
        "Sea $A$ un evento, entonces:\n",
        "\n",
        "$$ \\mathbb{P}(A) = \\frac{\\#A }{\\#\\Omega}$$\n",
        "\n",
        "**EJEMPLO:** Sea el experimento de lanzar una moneda 3 veces, de manera independiente (es decir, el $i$-ésimo lanzamiento no me afecta al $i+1$ lanzamiento). El espacio muestral de este experimento es:\n",
        "\n",
        "\n",
        "$$ \\Omega = \\{A,S\\} \\times \\{A,S\\} \\times \\{A,S\\} = \\{A,S\\}^3 $$\n",
        "y tenemos que $\\#\\Omega = 2^3$.\n",
        "\n",
        "\n",
        "Sean los eventos:\n",
        "* $A$: todos los resultados son águila\n",
        "* $S$: todos los resultados son soles\n",
        "* $E$: Por lo menos un resultado es sol\n",
        "Calcular las probabilidades de estos eventos:\n",
        "\n",
        "\n",
        "**Solución** Vamos a descomponer mi conjunto $A$ de la siguiente manera:\n",
        "$$A = A_1 \\cap A_2 \\cap A_3 $$\n",
        "donde $A_i$: caé águila en el $i$-ésimo resultado.\n",
        "\n"
      ],
      "metadata": {
        "id": "Sq-Sz9qjXVl1"
      }
    },
    {
      "cell_type": "markdown",
      "source": [
        "## Evento A"
      ],
      "metadata": {
        "id": "5X7TYTqusEOI"
      }
    },
    {
      "cell_type": "code",
      "source": [
        "import itertools\n",
        "from itertools import product\n",
        "\n",
        "Omega = set( product ({'A','S'},repeat =3))"
      ],
      "metadata": {
        "id": "MhmSf7NPXQFQ"
      },
      "execution_count": 8,
      "outputs": []
    },
    {
      "cell_type": "code",
      "source": [
        "A_1 = {om for om in Omega if om[0]=='A'}\n",
        "A_2 = {om for om in Omega if om[1]=='A'}\n",
        "A_3 = {om for om in Omega if om[2]=='A'}"
      ],
      "metadata": {
        "colab": {
          "base_uri": "https://localhost:8080/"
        },
        "id": "ytcT6hcufRQW",
        "outputId": "059cbe37-a3f2-4b72-eca1-ac13c1c1149a"
      },
      "execution_count": 11,
      "outputs": [
        {
          "output_type": "execute_result",
          "data": {
            "text/plain": [
              "{('A', 'A', 'A'), ('A', 'A', 'S'), ('A', 'S', 'A'), ('A', 'S', 'S')}"
            ]
          },
          "metadata": {},
          "execution_count": 11
        }
      ]
    },
    {
      "cell_type": "code",
      "source": [
        "P_A= len(A) / len(Omega)\n",
        "P_A"
      ],
      "metadata": {
        "colab": {
          "base_uri": "https://localhost:8080/"
        },
        "id": "oznkKLPHhMTL",
        "outputId": "8d613049-be7d-4d3a-8220-fd442e6c4623"
      },
      "execution_count": 18,
      "outputs": [
        {
          "output_type": "execute_result",
          "data": {
            "text/plain": [
              "0.125"
            ]
          },
          "metadata": {},
          "execution_count": 18
        }
      ]
    },
    {
      "cell_type": "markdown",
      "source": [
        "Función\n",
        " esto se hace de la siguiente manera:"
      ],
      "metadata": {
        "id": "Wc49h8NnhxiR"
      }
    },
    {
      "cell_type": "code",
      "source": [
        "from fractions import Fraction\n",
        "\n",
        "def p(E,Omega):\n",
        "  p = Fraction(len(E),len(Omega))\n",
        "  return p\n"
      ],
      "metadata": {
        "id": "9G4hGX17hRVg"
      },
      "execution_count": 25,
      "outputs": []
    },
    {
      "cell_type": "code",
      "source": [
        "p(A,Omega)"
      ],
      "metadata": {
        "colab": {
          "base_uri": "https://localhost:8080/"
        },
        "id": "QgVq_up7iShb",
        "outputId": "6250a2d6-67d1-4bd5-8b69-02502ef4993b"
      },
      "execution_count": 26,
      "outputs": [
        {
          "output_type": "execute_result",
          "data": {
            "text/plain": [
              "Fraction(1, 8)"
            ]
          },
          "metadata": {},
          "execution_count": 26
        }
      ]
    },
    {
      "cell_type": "markdown",
      "source": [
        "## Evento S"
      ],
      "metadata": {
        "id": "YDPzAEsXsI3o"
      }
    },
    {
      "cell_type": "markdown",
      "source": [
        "Sean los eventos:\n",
        "* $S$: todos los resultados son soles\n"
      ],
      "metadata": {
        "id": "JeGpKlfuq_rm"
      }
    },
    {
      "cell_type": "code",
      "source": [
        "S_1 = {om for om in Omega if om[0]=='S'}\n",
        "S_2 = {om for om in Omega if om[1]=='S'}\n",
        "S_3 = {om for om in Omega if om[2]=='S'}"
      ],
      "metadata": {
        "id": "rg0qot72rAMJ"
      },
      "execution_count": 29,
      "outputs": []
    },
    {
      "cell_type": "code",
      "source": [
        "S = S_1.intersection(S_2.intersection(S_3))\n",
        "p(S,Omega)"
      ],
      "metadata": {
        "colab": {
          "base_uri": "https://localhost:8080/"
        },
        "id": "LVRMMILksPXz",
        "outputId": "92df529c-ebb0-42ea-feb9-c341b799d3f1"
      },
      "execution_count": 30,
      "outputs": [
        {
          "output_type": "execute_result",
          "data": {
            "text/plain": [
              "Fraction(1, 8)"
            ]
          },
          "metadata": {},
          "execution_count": 30
        }
      ]
    },
    {
      "cell_type": "markdown",
      "source": [
        "## Evento E"
      ],
      "metadata": {
        "id": "76ercTTos1m0"
      }
    },
    {
      "cell_type": "markdown",
      "source": [
        "* $E$: Por lo menos un resultado es sol."
      ],
      "metadata": {
        "id": "fwWklMKAs4Be"
      }
    },
    {
      "cell_type": "code",
      "source": [
        "Omega"
      ],
      "metadata": {
        "colab": {
          "base_uri": "https://localhost:8080/"
        },
        "id": "ZirU03qUs3fX",
        "outputId": "a2dbda7b-53b1-45c9-a9cb-3fcf8d035a90"
      },
      "execution_count": 31,
      "outputs": [
        {
          "output_type": "execute_result",
          "data": {
            "text/plain": [
              "{('A', 'A', 'A'),\n",
              " ('A', 'A', 'S'),\n",
              " ('A', 'S', 'A'),\n",
              " ('A', 'S', 'S'),\n",
              " ('S', 'A', 'A'),\n",
              " ('S', 'A', 'S'),\n",
              " ('S', 'S', 'A'),\n",
              " ('S', 'S', 'S')}"
            ]
          },
          "metadata": {},
          "execution_count": 31
        }
      ]
    },
    {
      "cell_type": "code",
      "source": [
        "a=0\n",
        "for om in Omega:\n",
        "  if om[2] == 'S':\n",
        "    print(om)\n",
        "    print(om[0])\n",
        "    print(a)\n",
        "    a+=1"
      ],
      "metadata": {
        "colab": {
          "base_uri": "https://localhost:8080/"
        },
        "id": "sKjQuhiRvQrw",
        "outputId": "f1be25ac-df02-4f9c-8031-9b01f892d994"
      },
      "execution_count": 51,
      "outputs": [
        {
          "output_type": "stream",
          "name": "stdout",
          "text": [
            "('S', 'S', 'S')\n",
            "S\n",
            "0\n",
            "('A', 'S', 'S')\n",
            "A\n",
            "1\n",
            "('A', 'A', 'S')\n",
            "A\n",
            "2\n",
            "('S', 'A', 'S')\n",
            "S\n",
            "3\n"
          ]
        }
      ]
    },
    {
      "cell_type": "code",
      "source": [
        "E = {om for om in Omega if om[0]=='S' or om[1]=='S' or om[2]=='S'}\n",
        "p(E,Omega)"
      ],
      "metadata": {
        "colab": {
          "base_uri": "https://localhost:8080/"
        },
        "id": "W38_PLJWt-tu",
        "outputId": "4a598082-9e7f-41cf-f382-78a222fe42a9"
      },
      "execution_count": 53,
      "outputs": [
        {
          "output_type": "execute_result",
          "data": {
            "text/plain": [
              "Fraction(7, 8)"
            ]
          },
          "metadata": {},
          "execution_count": 53
        }
      ]
    },
    {
      "cell_type": "code",
      "source": [],
      "metadata": {
        "id": "MnqG9Q9ayQsc"
      },
      "execution_count": null,
      "outputs": []
    }
  ]
}