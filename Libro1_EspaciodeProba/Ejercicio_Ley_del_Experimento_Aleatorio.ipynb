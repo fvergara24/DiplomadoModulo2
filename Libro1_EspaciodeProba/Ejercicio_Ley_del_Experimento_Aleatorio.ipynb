{
  "cells": [
    {
      "cell_type": "markdown",
      "source": [
        "# Integrantes\n",
        "\n",
        "ANA PAULA SEGUNDO VELAZQUEZ\n",
        "\n",
        "JESIMIEL ARBELBIRAI VALDESPINO VEGA\n",
        "\n",
        "TANIA MONTSERRAT\n",
        "\n",
        "RICARDO VELASCO CARRASCO\n",
        "\n",
        "BEATRIZ YUNUEN GONZÁLEZ RODRÍGUEZ\n",
        "\n",
        "FERNANDO VERGARA MÉNDEZ"
      ],
      "metadata": {
        "id": "0qeRbaj3qlAP"
      },
      "id": "0qeRbaj3qlAP"
    },
    {
      "cell_type": "markdown",
      "id": "ecaaf9d1-c6e4-4bc3-adcc-b8df20e7e3ba",
      "metadata": {
        "id": "ecaaf9d1-c6e4-4bc3-adcc-b8df20e7e3ba"
      },
      "source": [
        "## Ejercicio\n",
        "\n",
        "Se tienen $2$ urnas, cada una de las cuales contiene $10$ bolas numeradas del $1$ al $10$.\n",
        "\n",
        "Un experimento aleatorio consiste en seleccionar al azar una bola de cada urna.\n",
        "\n",
        "Sea $X$ la variable aleatoria que representa la diferencia de los números de las dos bolas seleccionadas.\n",
        "\n",
        "* Define $\\Omega$\n",
        "* Calcula las probabilidades asociadas\n",
        "* Define la función de densidad\n",
        "* Verifica que $\\sum_{x\\in R_X}f_X(x) = 1$\n",
        "* Gráfica la función de densidad\n",
        "\n",
        "Además, calcula la probabilidad de que los números de las dos bolas seleccionadas difieran por $2$ o más."
      ]
    },
    {
      "cell_type": "markdown",
      "source": [
        "## Solución"
      ],
      "metadata": {
        "id": "B-6HDPuF8wVC"
      },
      "id": "B-6HDPuF8wVC"
    },
    {
      "cell_type": "markdown",
      "source": [
        "Sea $$\\Omega = \\{ (x,y) | x,y \\in \\{ 1,2,3,4,5,6,7,8,9,10 \\} \\} $$"
      ],
      "metadata": {
        "id": "5nMPq8X2840Q"
      },
      "id": "5nMPq8X2840Q"
    },
    {
      "cell_type": "code",
      "source": [
        "from itertools import product\n",
        "import numpy as np\n",
        "from fractions import Fraction\n",
        "from collections import defaultdict\n",
        "import pandas as pd"
      ],
      "metadata": {
        "id": "J2BaaGFL_fth"
      },
      "id": "J2BaaGFL_fth",
      "execution_count": null,
      "outputs": []
    },
    {
      "cell_type": "code",
      "source": [
        "omega = set(product({1,2,3,4,5,6,7,8,9,10},repeat=2))"
      ],
      "metadata": {
        "id": "ahOxrsUk8HR0"
      },
      "id": "ahOxrsUk8HR0",
      "execution_count": null,
      "outputs": []
    },
    {
      "cell_type": "code",
      "source": [
        "def p(a):\n",
        "  p = Fraction(len(a),len(omega))\n",
        "  return p"
      ],
      "metadata": {
        "id": "qLRSDTfx_VVz"
      },
      "id": "qLRSDTfx_VVz",
      "execution_count": null,
      "outputs": []
    },
    {
      "cell_type": "code",
      "source": [
        "s = {(x,y) : x-y for x,y in omega}"
      ],
      "metadata": {
        "id": "xY7bXI8HAmgW"
      },
      "id": "xY7bXI8HAmgW",
      "execution_count": null,
      "outputs": []
    },
    {
      "cell_type": "code",
      "source": [
        "ds = defaultdict(set)"
      ],
      "metadata": {
        "id": "ISd4RM14AqE1"
      },
      "id": "ISd4RM14AqE1",
      "execution_count": null,
      "outputs": []
    },
    {
      "cell_type": "code",
      "source": [
        "for i,j in s.items():\n",
        "  ds[j].add(i)"
      ],
      "metadata": {
        "id": "Y64tQGPJAqbw"
      },
      "id": "Y64tQGPJAqbw",
      "execution_count": null,
      "outputs": []
    },
    {
      "cell_type": "code",
      "source": [
        "list(ds.items())"
      ],
      "metadata": {
        "id": "OGEbb_11BRuV"
      },
      "id": "OGEbb_11BRuV",
      "execution_count": null,
      "outputs": []
    },
    {
      "cell_type": "code",
      "source": [
        "leys={i : p(a) for i,a in ds.items()}"
      ],
      "metadata": {
        "id": "cp2xkrUaCpkD"
      },
      "id": "cp2xkrUaCpkD",
      "execution_count": null,
      "outputs": []
    },
    {
      "cell_type": "code",
      "source": [
        "leys"
      ],
      "metadata": {
        "id": "wp9jGGqODTsm"
      },
      "id": "wp9jGGqODTsm",
      "execution_count": null,
      "outputs": []
    },
    {
      "cell_type": "markdown",
      "source": [
        "Recordemos que:\n",
        "\n",
        "$$X : \\Omega \\to \\mathbb{R} $$\n",
        "\n",
        "$$ f_X(x) = \\begin{cases} \\mathbb{P}(X=x), \\quad \\text{si } x\\in R_{X} \\\\ 0 \\quad \\text{e.o.c} \\end{cases} $$"
      ],
      "metadata": {
        "id": "pFVx8DjrDmDP"
      },
      "id": "pFVx8DjrDmDP"
    },
    {
      "cell_type": "markdown",
      "source": [
        "Para nuestro evento $$s_n = \\{ (x,y) \\in \\Omega : x-y = n \\} $$ se tiene la siguiente variable aleatoria:\n",
        "$$s:\\Omega \\rightarrow \\{ -9,-8,-7,-6,-5,-4,-3,-2,-1,0,1,2,3,4,5,6,7,8,9 \\}$$"
      ],
      "metadata": {
        "id": "oMr6_dFLDqLw"
      },
      "id": "oMr6_dFLDqLw"
    },
    {
      "cell_type": "code",
      "source": [
        "ley_s = pd.Series(leys)"
      ],
      "metadata": {
        "id": "hNh1sVuEDUW3"
      },
      "id": "hNh1sVuEDUW3",
      "execution_count": null,
      "outputs": []
    },
    {
      "cell_type": "code",
      "source": [
        "ley_s.sort_index()"
      ],
      "metadata": {
        "id": "DknAyrGMESGd"
      },
      "id": "DknAyrGMESGd",
      "execution_count": null,
      "outputs": []
    },
    {
      "cell_type": "code",
      "source": [
        "def leys(i):\n",
        "  if i in range(-9,10):\n",
        "    x = ley_s[i]\n",
        "  else:\n",
        "    x=0\n",
        "  return x"
      ],
      "metadata": {
        "id": "JufWfY3qEX_Z"
      },
      "id": "JufWfY3qEX_Z",
      "execution_count": null,
      "outputs": []
    },
    {
      "cell_type": "code",
      "source": [
        "#Lista de posibles valores\n",
        "rango_s=[k for k in range(-9,10)]\n",
        "\n",
        "#Proba de cada suma\n",
        "p_k = [float(leys(k)) for k in rango_s]"
      ],
      "metadata": {
        "id": "EcvEefzIEk6p"
      },
      "id": "EcvEefzIEk6p",
      "execution_count": null,
      "outputs": []
    },
    {
      "cell_type": "code",
      "source": [
        "len(rango_s), len(p_k)"
      ],
      "metadata": {
        "colab": {
          "base_uri": "https://localhost:8080/"
        },
        "id": "ioYtJG6tEyU9",
        "outputId": "3a8a8c26-13f8-40bb-8c47-8047b8e6f7cd"
      },
      "id": "ioYtJG6tEyU9",
      "execution_count": null,
      "outputs": [
        {
          "output_type": "execute_result",
          "data": {
            "text/plain": [
              "(19, 19)"
            ]
          },
          "metadata": {},
          "execution_count": 36
        }
      ]
    },
    {
      "cell_type": "code",
      "source": [
        "# Dataframe: rango_s y probas p_k\n",
        "df = pd.DataFrame({'rango_s':rango_s,\n",
        "                   'p_k':p_k},\n",
        "                   index = [f\"s({i})\" for i in range(-9,10)])\n",
        "df['p_k'] = df['p_k'].apply(lambda x: x)\n",
        "df.columns = ['Rango', 'Densidad']\n",
        "df"
      ],
      "metadata": {
        "colab": {
          "base_uri": "https://localhost:8080/",
          "height": 645
        },
        "id": "f9ssLQErEm95",
        "outputId": "d389a062-73f0-4935-d7b6-c96c2c48be60"
      },
      "id": "f9ssLQErEm95",
      "execution_count": null,
      "outputs": [
        {
          "output_type": "execute_result",
          "data": {
            "text/plain": [
              "       Rango  Densidad\n",
              "s(-9)     -9      0.01\n",
              "s(-8)     -8      0.02\n",
              "s(-7)     -7      0.03\n",
              "s(-6)     -6      0.04\n",
              "s(-5)     -5      0.05\n",
              "s(-4)     -4      0.06\n",
              "s(-3)     -3      0.07\n",
              "s(-2)     -2      0.08\n",
              "s(-1)     -1      0.09\n",
              "s(0)       0      0.10\n",
              "s(1)       1      0.09\n",
              "s(2)       2      0.08\n",
              "s(3)       3      0.07\n",
              "s(4)       4      0.06\n",
              "s(5)       5      0.05\n",
              "s(6)       6      0.04\n",
              "s(7)       7      0.03\n",
              "s(8)       8      0.02\n",
              "s(9)       9      0.01"
            ],
            "text/html": [
              "\n",
              "  <div id=\"df-9c6a7d5a-411d-4e67-8946-0779dcc5b267\" class=\"colab-df-container\">\n",
              "    <div>\n",
              "<style scoped>\n",
              "    .dataframe tbody tr th:only-of-type {\n",
              "        vertical-align: middle;\n",
              "    }\n",
              "\n",
              "    .dataframe tbody tr th {\n",
              "        vertical-align: top;\n",
              "    }\n",
              "\n",
              "    .dataframe thead th {\n",
              "        text-align: right;\n",
              "    }\n",
              "</style>\n",
              "<table border=\"1\" class=\"dataframe\">\n",
              "  <thead>\n",
              "    <tr style=\"text-align: right;\">\n",
              "      <th></th>\n",
              "      <th>Rango</th>\n",
              "      <th>Densidad</th>\n",
              "    </tr>\n",
              "  </thead>\n",
              "  <tbody>\n",
              "    <tr>\n",
              "      <th>s(-9)</th>\n",
              "      <td>-9</td>\n",
              "      <td>0.01</td>\n",
              "    </tr>\n",
              "    <tr>\n",
              "      <th>s(-8)</th>\n",
              "      <td>-8</td>\n",
              "      <td>0.02</td>\n",
              "    </tr>\n",
              "    <tr>\n",
              "      <th>s(-7)</th>\n",
              "      <td>-7</td>\n",
              "      <td>0.03</td>\n",
              "    </tr>\n",
              "    <tr>\n",
              "      <th>s(-6)</th>\n",
              "      <td>-6</td>\n",
              "      <td>0.04</td>\n",
              "    </tr>\n",
              "    <tr>\n",
              "      <th>s(-5)</th>\n",
              "      <td>-5</td>\n",
              "      <td>0.05</td>\n",
              "    </tr>\n",
              "    <tr>\n",
              "      <th>s(-4)</th>\n",
              "      <td>-4</td>\n",
              "      <td>0.06</td>\n",
              "    </tr>\n",
              "    <tr>\n",
              "      <th>s(-3)</th>\n",
              "      <td>-3</td>\n",
              "      <td>0.07</td>\n",
              "    </tr>\n",
              "    <tr>\n",
              "      <th>s(-2)</th>\n",
              "      <td>-2</td>\n",
              "      <td>0.08</td>\n",
              "    </tr>\n",
              "    <tr>\n",
              "      <th>s(-1)</th>\n",
              "      <td>-1</td>\n",
              "      <td>0.09</td>\n",
              "    </tr>\n",
              "    <tr>\n",
              "      <th>s(0)</th>\n",
              "      <td>0</td>\n",
              "      <td>0.10</td>\n",
              "    </tr>\n",
              "    <tr>\n",
              "      <th>s(1)</th>\n",
              "      <td>1</td>\n",
              "      <td>0.09</td>\n",
              "    </tr>\n",
              "    <tr>\n",
              "      <th>s(2)</th>\n",
              "      <td>2</td>\n",
              "      <td>0.08</td>\n",
              "    </tr>\n",
              "    <tr>\n",
              "      <th>s(3)</th>\n",
              "      <td>3</td>\n",
              "      <td>0.07</td>\n",
              "    </tr>\n",
              "    <tr>\n",
              "      <th>s(4)</th>\n",
              "      <td>4</td>\n",
              "      <td>0.06</td>\n",
              "    </tr>\n",
              "    <tr>\n",
              "      <th>s(5)</th>\n",
              "      <td>5</td>\n",
              "      <td>0.05</td>\n",
              "    </tr>\n",
              "    <tr>\n",
              "      <th>s(6)</th>\n",
              "      <td>6</td>\n",
              "      <td>0.04</td>\n",
              "    </tr>\n",
              "    <tr>\n",
              "      <th>s(7)</th>\n",
              "      <td>7</td>\n",
              "      <td>0.03</td>\n",
              "    </tr>\n",
              "    <tr>\n",
              "      <th>s(8)</th>\n",
              "      <td>8</td>\n",
              "      <td>0.02</td>\n",
              "    </tr>\n",
              "    <tr>\n",
              "      <th>s(9)</th>\n",
              "      <td>9</td>\n",
              "      <td>0.01</td>\n",
              "    </tr>\n",
              "  </tbody>\n",
              "</table>\n",
              "</div>\n",
              "    <div class=\"colab-df-buttons\">\n",
              "\n",
              "  <div class=\"colab-df-container\">\n",
              "    <button class=\"colab-df-convert\" onclick=\"convertToInteractive('df-9c6a7d5a-411d-4e67-8946-0779dcc5b267')\"\n",
              "            title=\"Convert this dataframe to an interactive table.\"\n",
              "            style=\"display:none;\">\n",
              "\n",
              "  <svg xmlns=\"http://www.w3.org/2000/svg\" height=\"24px\" viewBox=\"0 -960 960 960\">\n",
              "    <path d=\"M120-120v-720h720v720H120Zm60-500h600v-160H180v160Zm220 220h160v-160H400v160Zm0 220h160v-160H400v160ZM180-400h160v-160H180v160Zm440 0h160v-160H620v160ZM180-180h160v-160H180v160Zm440 0h160v-160H620v160Z\"/>\n",
              "  </svg>\n",
              "    </button>\n",
              "\n",
              "  <style>\n",
              "    .colab-df-container {\n",
              "      display:flex;\n",
              "      gap: 12px;\n",
              "    }\n",
              "\n",
              "    .colab-df-convert {\n",
              "      background-color: #E8F0FE;\n",
              "      border: none;\n",
              "      border-radius: 50%;\n",
              "      cursor: pointer;\n",
              "      display: none;\n",
              "      fill: #1967D2;\n",
              "      height: 32px;\n",
              "      padding: 0 0 0 0;\n",
              "      width: 32px;\n",
              "    }\n",
              "\n",
              "    .colab-df-convert:hover {\n",
              "      background-color: #E2EBFA;\n",
              "      box-shadow: 0px 1px 2px rgba(60, 64, 67, 0.3), 0px 1px 3px 1px rgba(60, 64, 67, 0.15);\n",
              "      fill: #174EA6;\n",
              "    }\n",
              "\n",
              "    .colab-df-buttons div {\n",
              "      margin-bottom: 4px;\n",
              "    }\n",
              "\n",
              "    [theme=dark] .colab-df-convert {\n",
              "      background-color: #3B4455;\n",
              "      fill: #D2E3FC;\n",
              "    }\n",
              "\n",
              "    [theme=dark] .colab-df-convert:hover {\n",
              "      background-color: #434B5C;\n",
              "      box-shadow: 0px 1px 3px 1px rgba(0, 0, 0, 0.15);\n",
              "      filter: drop-shadow(0px 1px 2px rgba(0, 0, 0, 0.3));\n",
              "      fill: #FFFFFF;\n",
              "    }\n",
              "  </style>\n",
              "\n",
              "    <script>\n",
              "      const buttonEl =\n",
              "        document.querySelector('#df-9c6a7d5a-411d-4e67-8946-0779dcc5b267 button.colab-df-convert');\n",
              "      buttonEl.style.display =\n",
              "        google.colab.kernel.accessAllowed ? 'block' : 'none';\n",
              "\n",
              "      async function convertToInteractive(key) {\n",
              "        const element = document.querySelector('#df-9c6a7d5a-411d-4e67-8946-0779dcc5b267');\n",
              "        const dataTable =\n",
              "          await google.colab.kernel.invokeFunction('convertToInteractive',\n",
              "                                                    [key], {});\n",
              "        if (!dataTable) return;\n",
              "\n",
              "        const docLinkHtml = 'Like what you see? Visit the ' +\n",
              "          '<a target=\"_blank\" href=https://colab.research.google.com/notebooks/data_table.ipynb>data table notebook</a>'\n",
              "          + ' to learn more about interactive tables.';\n",
              "        element.innerHTML = '';\n",
              "        dataTable['output_type'] = 'display_data';\n",
              "        await google.colab.output.renderOutput(dataTable, element);\n",
              "        const docLink = document.createElement('div');\n",
              "        docLink.innerHTML = docLinkHtml;\n",
              "        element.appendChild(docLink);\n",
              "      }\n",
              "    </script>\n",
              "  </div>\n",
              "\n",
              "\n",
              "<div id=\"df-ad989e48-80fc-468b-bd5e-9a7c7842e2fd\">\n",
              "  <button class=\"colab-df-quickchart\" onclick=\"quickchart('df-ad989e48-80fc-468b-bd5e-9a7c7842e2fd')\"\n",
              "            title=\"Suggest charts\"\n",
              "            style=\"display:none;\">\n",
              "\n",
              "<svg xmlns=\"http://www.w3.org/2000/svg\" height=\"24px\"viewBox=\"0 0 24 24\"\n",
              "     width=\"24px\">\n",
              "    <g>\n",
              "        <path d=\"M19 3H5c-1.1 0-2 .9-2 2v14c0 1.1.9 2 2 2h14c1.1 0 2-.9 2-2V5c0-1.1-.9-2-2-2zM9 17H7v-7h2v7zm4 0h-2V7h2v10zm4 0h-2v-4h2v4z\"/>\n",
              "    </g>\n",
              "</svg>\n",
              "  </button>\n",
              "\n",
              "<style>\n",
              "  .colab-df-quickchart {\n",
              "      --bg-color: #E8F0FE;\n",
              "      --fill-color: #1967D2;\n",
              "      --hover-bg-color: #E2EBFA;\n",
              "      --hover-fill-color: #174EA6;\n",
              "      --disabled-fill-color: #AAA;\n",
              "      --disabled-bg-color: #DDD;\n",
              "  }\n",
              "\n",
              "  [theme=dark] .colab-df-quickchart {\n",
              "      --bg-color: #3B4455;\n",
              "      --fill-color: #D2E3FC;\n",
              "      --hover-bg-color: #434B5C;\n",
              "      --hover-fill-color: #FFFFFF;\n",
              "      --disabled-bg-color: #3B4455;\n",
              "      --disabled-fill-color: #666;\n",
              "  }\n",
              "\n",
              "  .colab-df-quickchart {\n",
              "    background-color: var(--bg-color);\n",
              "    border: none;\n",
              "    border-radius: 50%;\n",
              "    cursor: pointer;\n",
              "    display: none;\n",
              "    fill: var(--fill-color);\n",
              "    height: 32px;\n",
              "    padding: 0;\n",
              "    width: 32px;\n",
              "  }\n",
              "\n",
              "  .colab-df-quickchart:hover {\n",
              "    background-color: var(--hover-bg-color);\n",
              "    box-shadow: 0 1px 2px rgba(60, 64, 67, 0.3), 0 1px 3px 1px rgba(60, 64, 67, 0.15);\n",
              "    fill: var(--button-hover-fill-color);\n",
              "  }\n",
              "\n",
              "  .colab-df-quickchart-complete:disabled,\n",
              "  .colab-df-quickchart-complete:disabled:hover {\n",
              "    background-color: var(--disabled-bg-color);\n",
              "    fill: var(--disabled-fill-color);\n",
              "    box-shadow: none;\n",
              "  }\n",
              "\n",
              "  .colab-df-spinner {\n",
              "    border: 2px solid var(--fill-color);\n",
              "    border-color: transparent;\n",
              "    border-bottom-color: var(--fill-color);\n",
              "    animation:\n",
              "      spin 1s steps(1) infinite;\n",
              "  }\n",
              "\n",
              "  @keyframes spin {\n",
              "    0% {\n",
              "      border-color: transparent;\n",
              "      border-bottom-color: var(--fill-color);\n",
              "      border-left-color: var(--fill-color);\n",
              "    }\n",
              "    20% {\n",
              "      border-color: transparent;\n",
              "      border-left-color: var(--fill-color);\n",
              "      border-top-color: var(--fill-color);\n",
              "    }\n",
              "    30% {\n",
              "      border-color: transparent;\n",
              "      border-left-color: var(--fill-color);\n",
              "      border-top-color: var(--fill-color);\n",
              "      border-right-color: var(--fill-color);\n",
              "    }\n",
              "    40% {\n",
              "      border-color: transparent;\n",
              "      border-right-color: var(--fill-color);\n",
              "      border-top-color: var(--fill-color);\n",
              "    }\n",
              "    60% {\n",
              "      border-color: transparent;\n",
              "      border-right-color: var(--fill-color);\n",
              "    }\n",
              "    80% {\n",
              "      border-color: transparent;\n",
              "      border-right-color: var(--fill-color);\n",
              "      border-bottom-color: var(--fill-color);\n",
              "    }\n",
              "    90% {\n",
              "      border-color: transparent;\n",
              "      border-bottom-color: var(--fill-color);\n",
              "    }\n",
              "  }\n",
              "</style>\n",
              "\n",
              "  <script>\n",
              "    async function quickchart(key) {\n",
              "      const quickchartButtonEl =\n",
              "        document.querySelector('#' + key + ' button');\n",
              "      quickchartButtonEl.disabled = true;  // To prevent multiple clicks.\n",
              "      quickchartButtonEl.classList.add('colab-df-spinner');\n",
              "      try {\n",
              "        const charts = await google.colab.kernel.invokeFunction(\n",
              "            'suggestCharts', [key], {});\n",
              "      } catch (error) {\n",
              "        console.error('Error during call to suggestCharts:', error);\n",
              "      }\n",
              "      quickchartButtonEl.classList.remove('colab-df-spinner');\n",
              "      quickchartButtonEl.classList.add('colab-df-quickchart-complete');\n",
              "    }\n",
              "    (() => {\n",
              "      let quickchartButtonEl =\n",
              "        document.querySelector('#df-ad989e48-80fc-468b-bd5e-9a7c7842e2fd button');\n",
              "      quickchartButtonEl.style.display =\n",
              "        google.colab.kernel.accessAllowed ? 'block' : 'none';\n",
              "    })();\n",
              "  </script>\n",
              "</div>\n",
              "\n",
              "  <div id=\"id_281a13b1-fd9e-4eb9-8628-5a1bd8cd5dbd\">\n",
              "    <style>\n",
              "      .colab-df-generate {\n",
              "        background-color: #E8F0FE;\n",
              "        border: none;\n",
              "        border-radius: 50%;\n",
              "        cursor: pointer;\n",
              "        display: none;\n",
              "        fill: #1967D2;\n",
              "        height: 32px;\n",
              "        padding: 0 0 0 0;\n",
              "        width: 32px;\n",
              "      }\n",
              "\n",
              "      .colab-df-generate:hover {\n",
              "        background-color: #E2EBFA;\n",
              "        box-shadow: 0px 1px 2px rgba(60, 64, 67, 0.3), 0px 1px 3px 1px rgba(60, 64, 67, 0.15);\n",
              "        fill: #174EA6;\n",
              "      }\n",
              "\n",
              "      [theme=dark] .colab-df-generate {\n",
              "        background-color: #3B4455;\n",
              "        fill: #D2E3FC;\n",
              "      }\n",
              "\n",
              "      [theme=dark] .colab-df-generate:hover {\n",
              "        background-color: #434B5C;\n",
              "        box-shadow: 0px 1px 3px 1px rgba(0, 0, 0, 0.15);\n",
              "        filter: drop-shadow(0px 1px 2px rgba(0, 0, 0, 0.3));\n",
              "        fill: #FFFFFF;\n",
              "      }\n",
              "    </style>\n",
              "    <button class=\"colab-df-generate\" onclick=\"generateWithVariable('df')\"\n",
              "            title=\"Generate code using this dataframe.\"\n",
              "            style=\"display:none;\">\n",
              "\n",
              "  <svg xmlns=\"http://www.w3.org/2000/svg\" height=\"24px\"viewBox=\"0 0 24 24\"\n",
              "       width=\"24px\">\n",
              "    <path d=\"M7,19H8.4L18.45,9,17,7.55,7,17.6ZM5,21V16.75L18.45,3.32a2,2,0,0,1,2.83,0l1.4,1.43a1.91,1.91,0,0,1,.58,1.4,1.91,1.91,0,0,1-.58,1.4L9.25,21ZM18.45,9,17,7.55Zm-12,3A5.31,5.31,0,0,0,4.9,8.1,5.31,5.31,0,0,0,1,6.5,5.31,5.31,0,0,0,4.9,4.9,5.31,5.31,0,0,0,6.5,1,5.31,5.31,0,0,0,8.1,4.9,5.31,5.31,0,0,0,12,6.5,5.46,5.46,0,0,0,6.5,12Z\"/>\n",
              "  </svg>\n",
              "    </button>\n",
              "    <script>\n",
              "      (() => {\n",
              "      const buttonEl =\n",
              "        document.querySelector('#id_281a13b1-fd9e-4eb9-8628-5a1bd8cd5dbd button.colab-df-generate');\n",
              "      buttonEl.style.display =\n",
              "        google.colab.kernel.accessAllowed ? 'block' : 'none';\n",
              "\n",
              "      buttonEl.onclick = () => {\n",
              "        google.colab.notebook.generateWithVariable('df');\n",
              "      }\n",
              "      })();\n",
              "    </script>\n",
              "  </div>\n",
              "\n",
              "    </div>\n",
              "  </div>\n"
            ],
            "application/vnd.google.colaboratory.intrinsic+json": {
              "type": "dataframe",
              "variable_name": "df",
              "summary": "{\n  \"name\": \"df\",\n  \"rows\": 19,\n  \"fields\": [\n    {\n      \"column\": \"Rango\",\n      \"properties\": {\n        \"dtype\": \"number\",\n        \"std\": 5,\n        \"min\": -9,\n        \"max\": 9,\n        \"num_unique_values\": 19,\n        \"samples\": [\n          -9,\n          -4,\n          2\n        ],\n        \"semantic_type\": \"\",\n        \"description\": \"\"\n      }\n    },\n    {\n      \"column\": \"Densidad\",\n      \"properties\": {\n        \"dtype\": \"number\",\n        \"std\": 0.028253240770486625,\n        \"min\": 0.01,\n        \"max\": 0.1,\n        \"num_unique_values\": 10,\n        \"samples\": [\n          0.09,\n          0.02,\n          0.06\n        ],\n        \"semantic_type\": \"\",\n        \"description\": \"\"\n      }\n    }\n  ]\n}"
            }
          },
          "metadata": {},
          "execution_count": 42
        }
      ]
    },
    {
      "cell_type": "code",
      "source": [
        "# Se cumple la condición que la suma de todas las probabilidades es 1\n",
        "df['Densidad'].sum()"
      ],
      "metadata": {
        "colab": {
          "base_uri": "https://localhost:8080/"
        },
        "id": "wUVZGNkTFNFK",
        "outputId": "4d24ce67-874c-4074-9e6f-b208cafb42c9"
      },
      "id": "wUVZGNkTFNFK",
      "execution_count": null,
      "outputs": [
        {
          "output_type": "execute_result",
          "data": {
            "text/plain": [
              "1.0"
            ]
          },
          "metadata": {},
          "execution_count": 43
        }
      ]
    },
    {
      "cell_type": "code",
      "source": [
        "df.plot.bar(x='Rango', y='Densidad')"
      ],
      "metadata": {
        "colab": {
          "base_uri": "https://localhost:8080/",
          "height": 467
        },
        "id": "XQX1qx27FU0b",
        "outputId": "48e7a95b-c325-4f1d-b29b-04047d0649c4"
      },
      "id": "XQX1qx27FU0b",
      "execution_count": null,
      "outputs": [
        {
          "output_type": "execute_result",
          "data": {
            "text/plain": [
              "<Axes: xlabel='Rango'>"
            ]
          },
          "metadata": {},
          "execution_count": 44
        },
        {
          "output_type": "display_data",
          "data": {
            "text/plain": [
              "<Figure size 640x480 with 1 Axes>"
            ],
            "image/png": "[encoded data removed]"
          },
          "metadata": {}
        }
      ]
    },
    {
      "cell_type": "markdown",
      "source": [
        "Calcula la probabilidad de que los números de las dos bolas seleccionadas difieran por  2  o más."
      ],
      "metadata": {
        "id": "qI0UCDnfGdZm"
      },
      "id": "qI0UCDnfGdZm"
    },
    {
      "cell_type": "code",
      "source": [
        "omega = set(product({1,2,3,4,5,6,7,8,9,10},repeat=2))\n",
        "\n",
        "s = {(x,y) : abs(x-y) for x,y in omega} #Usamos valor absoluto para la diferencia\n",
        "\n",
        "ds = defaultdict(set)\n",
        "for i,j in s.items():\n",
        "  ds[j].add(i)\n",
        "\n",
        "leys={i : p(a) for i,a in ds.items()}\n",
        "\n",
        "# Calcula la probabilidad de que los números difieran por 2 o más\n",
        "prob_diferencia_2_o_mas = sum(leys[i] for i in leys if i >= 2)\n",
        "\n",
        "print(f\"La probabilidad de que los números difieran en 2 o más es: {prob_diferencia_2_o_mas}\")\n"
      ],
      "metadata": {
        "colab": {
          "base_uri": "https://localhost:8080/"
        },
        "id": "2Js_xEsmGvYd",
        "outputId": "eb712df0-0a90-4f07-df50-9258db5856ae"
      },
      "id": "2Js_xEsmGvYd",
      "execution_count": null,
      "outputs": [
        {
          "output_type": "stream",
          "name": "stdout",
          "text": [
            "La probabilidad de que los números difieran en 2 o más es: 18/25\n"
          ]
        }
      ]
    },
    {
      "cell_type": "code",
      "source": [],
      "metadata": {
        "id": "xdJ5-K8-HbCZ"
      },
      "id": "xdJ5-K8-HbCZ",
      "execution_count": null,
      "outputs": []
    }
  ],
  "metadata": {
    "kernelspec": {
      "display_name": "Python [conda env:base] *",
      "language": "python",
      "name": "conda-base-py"
    },
    "language_info": {
      "codemirror_mode": {
        "name": "ipython",
        "version": 3
      },
      "file_extension": ".py",
      "mimetype": "text/x-python",
      "name": "python",
      "nbconvert_exporter": "python",
      "pygments_lexer": "ipython3",
      "version": "3.12.7"
    },
    "colab": {
      "provenance": []
    }
  },
  "nbformat": 4,
  "nbformat_minor": 5
}
