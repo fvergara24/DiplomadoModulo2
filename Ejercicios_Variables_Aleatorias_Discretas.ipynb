{
 "cells": [
  {
   "cell_type": "markdown",
   "id": "16ecef6f-1e66-4667-bce5-99e8fc8dcbeb",
   "metadata": {},
   "source": [
    "## Integrantes equipo\n",
    "- Ana Paula Segundo Velazquez\n",
    "- Beatriz Yunuen Gonzalez\n",
    "- Fernando Vergara Méndez\n",
    "- Jesimiel Arbelbirai Valdespino Vega\n",
    "- Ricardo Velasco Carrasco\n",
    "- Tania Montserrat\n"
   ]
  },
  {
   "cell_type": "code",
   "execution_count": null,
   "id": "986761fd-0a7c-4669-8206-81e64ced7cf7",
   "metadata": {},
   "outputs": [],
   "source": [
    "#Ejercicio 2"
   ]
  },
  {
   "cell_type": "markdown",
   "id": "b5dead70-c4da-4ba9-aff6-ce604bf5a4c3",
   "metadata": {},
   "source": [
    "**Ejemplo** Se lleva a cabo una rifa donde los boletos están enumerados del $00$ al $99$. Si $Y$ es la variable aleatoria definida como el número del boleto ganador, entonces:  \n",
    "$$\\mathbb{P}(Y=k)=\\begin{cases}\n",
    "\t\\frac{1}{100} &\\quad \\text{si } k=00,01,\\dots,99 \\\\\n",
    "\t0 &\\quad \\text{en otro caso}\n",
    "\\end{cases}$$\n",
    "Consideremos que el premio de la rifa se determina a partir del número premiado de la siguiente forma: $X=Y+1$, donde $X$ es el monto del premio en pesos y $Y$ es el número premiado, entonces $X$ es una variable aleatoria, pues es una función de $Y$, y además se tiene\n",
    "\t$$f_{X}(k)=\\begin{cases}\n",
    "\t\t\\frac{1}{100} &\\quad \\text{si } x=1,2,\\dots,100 \\\\\n",
    "\t\t0 &\\quad \\text{en otro caso}\n",
    "\t\\end{cases}$$"
   ]
  },
  {
   "cell_type": "markdown",
   "id": "35b864ae-9067-43bf-a229-81ae6d8cd130",
   "metadata": {},
   "source": [
    "$\\color{red}{\\text{Ejercicio 2.}}$ Calcular la esperanza y varianza.  "
   ]
  },
  {
   "cell_type": "markdown",
   "id": "1216b84c-83ca-445d-9794-1950c6501e20",
   "metadata": {},
   "source": [
    "$$E[X]=\\frac{(a+b)}{2}=\\frac{(1+100)}{2}=\\frac{(101)}{2}$$\n",
    "$$Var(X)=\\frac{(b-a)^{2}}{12}=\\frac{(100-1)^{2}}{12}=\\frac{(99)^{2}}{12}$$"
   ]
  },
  {
   "cell_type": "code",
   "execution_count": null,
   "id": "1affa13a-fb7d-4292-a443-e7e2cf18881a",
   "metadata": {},
   "outputs": [],
   "source": [
    "#Ejercicio 3"
   ]
  },
  {
   "cell_type": "markdown",
   "id": "5ab11675-5d4b-46d3-9f77-7c0b643ed11c",
   "metadata": {},
   "source": [
    "$\\color{red}{\\text{Ejercicio 3.}}$ Usando el atributo `.cdf` [Poisson](https://docs.scipy.org/doc/scipy/reference/generated/scipy.stats.poisson.html) calcula las probabilidades anteriores.\n",
    "\n",
    "Supongamos que el número de accidentes que ocurre en un punto en un día tiene distribución Poisson con parámetro $\\lambda=2$,\n",
    "\n",
    "- ¿cuál es la probabilidad de que en un día ocurran más de dos accidentes?\n",
    "  \n",
    "- ¿cuál es la probabilidad de que ocurran más de dos accidentes sabiendo que por lo menos ocurre uno?"
   ]
  },
  {
   "cell_type": "code",
   "execution_count": 15,
   "id": "e5e36459-6cc3-4bec-aefa-3fe7ff092eee",
   "metadata": {},
   "outputs": [
    {
     "data": {
      "text/plain": [
       "(0.3233235838169366, 0.37392942900133747)"
      ]
     },
     "execution_count": 15,
     "metadata": {},
     "output_type": "execute_result"
    }
   ],
   "source": [
    "import scipy.stats as sps\n",
    "#p1=P(X ≤ 2)    p2=P(X > 2)     p3=P(X ≥ 1)    p4=P(X > 2 | X ≥ 1)\n",
    "\n",
    "lambda_ = 2\n",
    "\n",
    "# Calculamos P(X > 2)\n",
    "p1 = sps.poisson.cdf(2, lambda_)\n",
    "p2 = 1 - p1\n",
    "\n",
    "# Calculamos P(X > 2 | X ≥ 1)\n",
    "p3 = 1 - sps.poisson.cdf(0, lambda_)\n",
    "p4 = p2 / p3\n",
    "\n",
    "p2, p4"
   ]
  },
  {
   "cell_type": "markdown",
   "id": "af4249e7-cc2c-419d-8304-7e7387642818",
   "metadata": {},
   "source": [
    "#Ejercicio4"
   ]
  },
  {
   "cell_type": "markdown",
   "id": "faa1a7ca-7bb5-4eea-bf5c-e46fe4ece19b",
   "metadata": {},
   "source": [
    "$\\color{red}{\\text{Ejercicio 4.}}$ Un examen de Estadística consta de 20 preguntas tipo test y se conoce de experiencias\n",
    "anteriores que un alumno tiene probabilidad 0.7 de contestar bien cada pregunta. Obtener:\n",
    "\n",
    "a) La probabilidad de que la primera pregunta que contesta bien sea la cuarta.\n",
    "\n",
    "b) Sabiendo que para aprobar el examen es necesario contestar bien a 10 preguntas, ¿cuál es la probabilidad de que apruebe al contestar la pregunta duodécima?"
   ]
  },
  {
   "cell_type": "code",
   "execution_count": null,
   "id": "ef182f28-5a49-4e59-b092-99312ba434cd",
   "metadata": {},
   "outputs": [],
   "source": [
    "import math\n",
    "\n",
    "def probabilidad_primera_correcta_en_cuarta(p_correcta=0.7):\n",
    "    p_incorrecta = 1 - p_correcta\n",
    "    return (p_incorrecta ** 3) * p_correcta\n",
    "\n",
    "def probabilidad_aprobar_en_12(p_correcta=0.7, respuestas_necesarias=10, total_preguntas=12):\n",
    "    probabilidad = 0\n",
    "    for k in range(respuestas_necesarias, total_preguntas + 1):\n",
    "        combinaciones = math.comb(total_preguntas, k)\n",
    "        probabilidad += combinaciones * (p_correcta ** k) * ((1 - p_correcta) ** (total_preguntas - k))\n",
    "    return probabilidad\n",
    "\n",
    "if __name__ == \"__main__\":\n",
    "    p_correcta = 0.7\n",
    "    print(\"Probabilidad de que la primera respuesta correcta sea en la cuarta pregunta:\", probabilidad_primera_correcta_en_cuarta(p_correcta))\n",
    "    print(\"Probabilidad de aprobar al responder 12 preguntas:\", probabilidad_aprobar_en_12(p_correcta))\n"
   ]
  },
  {
   "cell_type": "code",
   "execution_count": null,
   "id": "907e9b18-8b09-4dbd-8eaf-67d18505ce9a",
   "metadata": {},
   "outputs": [],
   "source": [
    "#Ejercico 5"
   ]
  },
  {
   "cell_type": "markdown",
   "id": "08c0bd30-fa1d-4b70-a9c6-ed77fc4f0c3f",
   "metadata": {},
   "source": [
    "$\\color{red}{\\text{Ejercicio 5.}}$ Investigue sobre el problema de la caja de cerillos de Banach y explique su solución."
   ]
  },
  {
   "cell_type": "code",
   "execution_count": 25,
   "id": "ae30b850-1414-41c1-9867-67f5ff1c710b",
   "metadata": {},
   "outputs": [],
   "source": [
    "import random\n",
    "import matplotlib.pyplot as plt\n",
    "\n",
    "\n",
    "def simular_cajas_banach(n_cerillos=40, ensayos=10000):\n",
    "    cerillos_restantes = []\n",
    "\n",
    "    for _ in range(ensayos):\n",
    "        caja_izquierda = n_cerillos\n",
    "        caja_derecha = n_cerillos\n",
    "\n",
    "        while caja_izquierda > 0 and caja_derecha > 0:\n",
    "            if random.choice([True, False]):\n",
    "                caja_izquierda -= 1\n",
    "            else:\n",
    "                caja_derecha -= 1\n",
    "\n",
    "        cerillos_restantes.append(max(caja_izquierda, caja_derecha))\n",
    "\n",
    "    return cerillos_restantes"
   ]
  },
  {
   "cell_type": "code",
   "execution_count": 21,
   "id": "566de234-b80c-40cb-baa4-b8d5a060ca90",
   "metadata": {},
   "outputs": [],
   "source": [
    "#Ejercicio 6"
   ]
  },
  {
   "cell_type": "markdown",
   "id": "4f43ea9d-e879-4d1a-82f7-564ac4c15bfd",
   "metadata": {},
   "source": [
    "## Variable aleatoria Hipergeométrica con parámetros $n,N,m$."
   ]
  },
  {
   "cell_type": "markdown",
   "id": "a450ee86-440e-4789-ae6e-feedd094a5cd",
   "metadata": {},
   "source": [
    "Supongamos que se elige, sin reemplazo, una muestra de tamaño $n$ de una urna que contiene $N$ bolas, de las cuales $m$ son rojas y $N-m$ son verdes. Sea $X$ el número de bolas rojas seleccionadas, entonces su función de masa de probabilidades está dada por:\n",
    "$$ f_{X}(x)=\n",
    "\t\\frac{\\binom{m}{x}\\binom{N-m}{n-x}}{\\binom{N}{n}} \\quad \\text{si } x=0,1,\\dots, n $$\n",
    "\n",
    "**Notación.** $X\\sim \\text{Hiper}(n,N,m)$.\n",
    "\n",
    "Se tiene que\n",
    "$$ \\mathbb{E}[X]=\\frac{nm}{N}$$\n",
    "y\n",
    "$$ \\text{Var}[X]=\\frac{nm}{N}\\left[\\frac{(n-1)(m-1)}{N-1}+1-\\frac{nm}{N} \\right].$$\n",
    "\n",
    "**Nota.** Si $x\\leq n$ y $X\\sim \\text{Hiper}(n,N,m)$, cuando $p=\\frac{m}{N}$ y $m,N$ son muy grandes con respecto a $n$ y $x$:\n",
    "$$\\mathbb{P}(X=x)\\approx \\binom{n}{x}p^{x}(1-p)^{n-x}.$$"
   ]
  },
  {
   "cell_type": "markdown",
   "id": "b226bdbd-b923-4169-b2a7-8302202a0e91",
   "metadata": {},
   "source": [
    "$\\color{red}{\\text{Ejercicio 6.}}$ Replicar la grafica de la función de densidad"
   ]
  },
  {
   "cell_type": "code",
   "execution_count": 61,
   "id": "b9f9f89b-b5c9-49b1-a781-608ec8457101",
   "metadata": {},
   "outputs": [
    {
     "data": {
      "image/png": "[encoded data removed]",
      "text/plain": [
       "<Figure size 1000x600 with 1 Axes>"
      ]
     },
     "metadata": {},
     "output_type": "display_data"
    }
   ],
   "source": [
    "import numpy as np\n",
    "import matplotlib.pyplot as plt\n",
    "import scipy.stats as sps\n",
    "\n",
    "# Parámetros\n",
    "M = 30   \n",
    "n = 20   \n",
    "N = 10   \n",
    "s = 100\n",
    "\n",
    "# Fijar la semilla para reproducibilidad\n",
    "np.random.seed(3)\n",
    "\n",
    "# Generamos números aleatorios que siguen una distribución hipergeométrica\n",
    "hypergeom_numeros = sps.hypergeom.rvs(M, n, N, size=s)\n",
    "\n",
    "# Creamos un histograma\n",
    "plt.figure(figsize=(10,6))\n",
    "plt.hist(\n",
    "    hypergeom_numeros,\n",
    "    density=True,  # Normaliza el área para que sea 1\n",
    "    bins=10,       # Número de barras del histograma\n",
    "    color=\"green\",\n",
    "    edgecolor=\"grey\"\n",
    ")\n",
    "\n",
    "plt.xlabel('Número de éxitos en la muestra')\n",
    "plt.ylabel('Probabilidad')\n",
    "plt.title(f'Función de densidad de una distribución hipergeométrica con M={M}, n={n}, N={N}')\n",
    "plt.show()  # Mostrar la gráfica"
   ]
  },
  {
   "cell_type": "code",
   "execution_count": null,
   "id": "2c349901-1e13-400b-be17-04ea4c6435fc",
   "metadata": {},
   "outputs": [],
   "source": [
    "#Ejercicio 7"
   ]
  },
  {
   "cell_type": "markdown",
   "id": "fc90a78a-29ef-4817-aa4c-ab1598b0e844",
   "metadata": {},
   "source": [
    "$\\color{red}{\\text{Ejercicio 7.}}$ Una compañía petrolera realiza un estudio geológico que indica que un pozo petrolero exploratorio debería tener un 20% de posibilidades de encontrar petróleo.\n",
    "\n",
    "- ¿Cuál es la probabilidad de que el primer pozo se produzca en el tercer pozo perforado?\n",
    "\n",
    "- ¿Cuál es la probabilidad de que el tercer pozo se produzca en el séptimo pozo perforado?\n",
    "\n",
    "- ¿Cuál es la media y la varianza del número de pozos que se deben perforar si la compañía petrolera quiere establecer tres pozos productores?"
   ]
  },
  {
   "cell_type": "code",
   "execution_count": 2,
   "id": "3a36d130-3244-47ef-91b4-67d5515f43a7",
   "metadata": {
    "id": "byL4L0pfRbN_"
   },
   "outputs": [
    {
     "name": "stdout",
     "output_type": "stream",
     "text": [
      "0.12800000000000003\n"
     ]
    }
   ],
   "source": [
    "#¿Cuál es la probabilidad de que el primer pozo se produzca en el tercer pozo perforado?\n",
    "\n",
    "def probabilidad_pozo(p, k):\n",
    "    return (1 - p) ** (k - 1) * p\n",
    "\n",
    "p = 0.20\n",
    "k = 3\n",
    "probabilidad = probabilidad_pozo(p, k)\n",
    "print(probabilidad)"
   ]
  },
  {
   "cell_type": "code",
   "execution_count": 10,
   "id": "7aaa8352-4e5f-4d74-903c-b942e0572f5a",
   "metadata": {},
   "outputs": [
    {
     "name": "stdout",
     "output_type": "stream",
     "text": [
      "La probabilidad de que el tercer pozo exitoso se produzca en el séptimo pozo perforado es: 0.06039797760000005\n"
     ]
    }
   ],
   "source": [
    "#¿Cuál es la probabilidad de que el tercer pozo se produzca en el séptimo pozo perforado?\n",
    "import scipy.stats as stats\n",
    "p = 0.20  \n",
    "r = 3     \n",
    "k = 7     \n",
    "\n",
    "probabilidad = stats.nbinom.pmf(k, r, p)\n",
    "\n",
    "\n",
    "print(f\"La probabilidad de que el tercer pozo exitoso se produzca en el séptimo pozo perforado es: {probabilidad}\")"
   ]
  },
  {
   "cell_type": "code",
   "execution_count": 8,
   "id": "3f7a1600-61f4-4bce-95fe-9e61b020b981",
   "metadata": {},
   "outputs": [
    {
     "name": "stdout",
     "output_type": "stream",
     "text": [
      "Media: 15.0\n",
      "Varianza: 60.0\n"
     ]
    }
   ],
   "source": [
    "# Parámetros\n",
    "p = 0.20  \n",
    "r = 3     \n",
    "\n",
    "media = r / p\n",
    "varianza = r * (1 - p) / (p ** 2)\n",
    "\n",
    "print(f\"Media: {media}\")\n",
    "print(f\"Varianza: {varianza}\")"
   ]
  },
  {
   "cell_type": "code",
   "execution_count": null,
   "id": "193a6bfa-efec-4aff-afcc-e8d0794ce7ef",
   "metadata": {},
   "outputs": [],
   "source": []
  },
  {
   "cell_type": "code",
   "execution_count": null,
   "id": "9c27e26c-1234-4fdc-b5bb-761f42007c42",
   "metadata": {},
   "outputs": [],
   "source": []
  }
 ],
 "metadata": {
  "kernelspec": {
   "display_name": "Python [conda env:base] *",
   "language": "python",
   "name": "conda-base-py"
  },
  "language_info": {
   "codemirror_mode": {
    "name": "ipython",
    "version": 3
   },
   "file_extension": ".py",
   "mimetype": "text/x-python",
   "name": "python",
   "nbconvert_exporter": "python",
   "pygments_lexer": "ipython3",
   "version": "3.12.7"
  }
 },
 "nbformat": 4,
 "nbformat_minor": 5
}
